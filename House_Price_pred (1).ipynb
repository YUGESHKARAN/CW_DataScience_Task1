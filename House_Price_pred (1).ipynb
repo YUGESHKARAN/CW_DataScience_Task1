{
 "cells": [
  {
   "cell_type": "code",
   "execution_count": 3,
   "id": "9ce5aa06",
   "metadata": {},
   "outputs": [],
   "source": [
    "import pandas as pd\n",
    "import numpy as np\n",
    "import seaborn as sns\n",
    "import matplotlib.pyplot as plt"
   ]
  },
  {
   "cell_type": "code",
   "execution_count": 4,
   "id": "7ddec84f",
   "metadata": {},
   "outputs": [],
   "source": [
    "HouseDF = pd.read_csv('HousePricePreciction.csv')"
   ]
  },
  {
   "cell_type": "code",
   "execution_count": 5,
   "id": "5a4e0695",
   "metadata": {},
   "outputs": [
    {
     "name": "stdout",
     "output_type": "stream",
     "text": [
      "number of Categorical variables = 4 \n",
      " Categorical Variables are: ['MSZoning', 'LotConfig', 'BldgType', 'Exterior1st']\n"
     ]
    }
   ],
   "source": [
    "#Finding No. of Categorical variables and its column names\n",
    "\n",
    "objects = (HouseDF.dtypes=='object')\n",
    "\n",
    "object_cols = list(objects[objects].index)\n",
    "\n",
    "print(\"number of Categorical variables =\",len(object_cols),\"\\n\",\"Categorical Variables are:\", object_cols)"
   ]
  },
  {
   "cell_type": "code",
   "execution_count": 6,
   "id": "05a718d7",
   "metadata": {},
   "outputs": [],
   "source": [
    "#removing ID column from the dataset\n",
    "HouseDF.drop(['Id'],axis=1,inplace=True)"
   ]
  },
  {
   "cell_type": "code",
   "execution_count": 7,
   "id": "353a0100",
   "metadata": {},
   "outputs": [],
   "source": [
    "#replacing SalePrice values eith its ,mean values to make the distribution symmetric\n",
    "\n",
    "HouseDF['SalePrice'] = HouseDF['SalePrice'].fillna(HouseDF['SalePrice'].mean())"
   ]
  },
  {
   "cell_type": "code",
   "execution_count": 8,
   "id": "e9339706",
   "metadata": {},
   "outputs": [],
   "source": [
    "#Drop records with null values\n",
    "\n",
    "new_HouseDF = HouseDF.dropna()"
   ]
  },
  {
   "cell_type": "code",
   "execution_count": 9,
   "id": "022cdf4a",
   "metadata": {},
   "outputs": [
    {
     "data": {
      "text/plain": [
       "MSSubClass      0\n",
       "MSZoning        0\n",
       "LotArea         0\n",
       "LotConfig       0\n",
       "BldgType        0\n",
       "OverallCond     0\n",
       "YearBuilt       0\n",
       "YearRemodAdd    0\n",
       "Exterior1st     0\n",
       "BsmtFinSF2      0\n",
       "TotalBsmtSF     0\n",
       "SalePrice       0\n",
       "dtype: int64"
      ]
     },
     "execution_count": 9,
     "metadata": {},
     "output_type": "execute_result"
    }
   ],
   "source": [
    "#To check wheather the empty values are still present in the dataset\n",
    "\n",
    "new_HouseDF.isnull().sum()"
   ]
  },
  {
   "cell_type": "code",
   "execution_count": 10,
   "id": "d717f34b",
   "metadata": {},
   "outputs": [
    {
     "name": "stdout",
     "output_type": "stream",
     "text": [
      "Categorical variables : ['MSZoning', 'LotConfig', 'BldgType', 'Exterior1st'] \n",
      " No. of categorical features : 4\n"
     ]
    }
   ],
   "source": [
    "#Using OneHotEncoder to label categorical faetures\n",
    "\n",
    "from sklearn.preprocessing import OneHotEncoder, StandardScaler\n",
    "\n",
    "c = (new_HouseDF.dtypes=='object')\n",
    "object_cols = list(c[c].index)\n",
    "print(\"Categorical variables :\",object_cols,\"\\n\",\"No. of categorical features :\",len(object_cols))"
   ]
  },
  {
   "cell_type": "code",
   "execution_count": 13,
   "id": "0715a4e6",
   "metadata": {},
   "outputs": [
    {
     "name": "stderr",
     "output_type": "stream",
     "text": [
      "C:\\Users\\yuges\\anaconda3\\fds\\lib\\site-packages\\sklearn\\preprocessing\\_encoders.py:828: FutureWarning: `sparse` was renamed to `sparse_output` in version 1.2 and will be removed in 1.4. `sparse_output` is ignored unless you leave `sparse` to its default value.\n",
      "  warnings.warn(\n"
     ]
    }
   ],
   "source": [
    "#Applying onehotencoder to the categorical features\n",
    "\n",
    "OH_enc = OneHotEncoder(sparse=False)\n",
    "OH_cols = pd.DataFrame(OH_enc.fit_transform(new_HouseDF[object_cols]))\n",
    "OH_cols.index = new_HouseDF.index\n",
    "OH_cols.columns = OH_enc.get_feature_names_out()\n",
    "DF_final = new_HouseDF.drop(object_cols,axis=1)\n",
    "DF_final = pd.concat([DF_final,OH_cols],axis=1)"
   ]
  },
  {
   "cell_type": "code",
   "execution_count": 14,
   "id": "d5d6e289",
   "metadata": {},
   "outputs": [],
   "source": [
    "# Splitting datset into train data and test data\n",
    "\n",
    "from sklearn.metrics import mean_absolute_error\n",
    "from sklearn.model_selection import train_test_split\n",
    "\n",
    "X = DF_final.drop(['SalePrice'], axis=1)\n",
    "Y = DF_final['SalePrice']\n",
    "\n",
    "X_train, X_valid, Y_train, Y_valid = train_test_split(X,Y,train_size = 0.8, test_size = 0.2, random_state= 0)"
   ]
  },
  {
   "cell_type": "code",
   "execution_count": 19,
   "id": "31e70149",
   "metadata": {},
   "outputs": [
    {
     "name": "stdout",
     "output_type": "stream",
     "text": [
      "0.1870512931870423\n"
     ]
    }
   ],
   "source": [
    "# Model and Accuracy\n",
    "\n",
    "#1.SVM (SUPPORT VECTOR MACHINE)\n",
    "\n",
    "from sklearn import svm\n",
    "from sklearn.svm import SVC\n",
    "from sklearn.metrics import mean_absolute_percentage_error\n",
    "\n",
    "model_SVR = svm.SVR()\n",
    "model_SVR.fit(X_train,Y_train)\n",
    "\n",
    "Y_predict = model_SVR.predict(X_valid)\n",
    "\n",
    "print(mean_absolute_percentage_error(Y_valid,Y_predict))\n"
   ]
  },
  {
   "cell_type": "code",
   "execution_count": null,
   "id": "8ee1af3d",
   "metadata": {},
   "outputs": [],
   "source": []
  },
  {
   "cell_type": "code",
   "execution_count": null,
   "id": "0520b3c1",
   "metadata": {},
   "outputs": [],
   "source": []
  },
  {
   "cell_type": "code",
   "execution_count": null,
   "id": "8c765787",
   "metadata": {},
   "outputs": [],
   "source": []
  },
  {
   "cell_type": "code",
   "execution_count": null,
   "id": "cb76d2f1",
   "metadata": {},
   "outputs": [],
   "source": []
  },
  {
   "cell_type": "code",
   "execution_count": null,
   "id": "657b1352",
   "metadata": {},
   "outputs": [],
   "source": []
  }
 ],
 "metadata": {
  "kernelspec": {
   "display_name": "Python 3 (ipykernel)",
   "language": "python",
   "name": "python3"
  },
  "language_info": {
   "codemirror_mode": {
    "name": "ipython",
    "version": 3
   },
   "file_extension": ".py",
   "mimetype": "text/x-python",
   "name": "python",
   "nbconvert_exporter": "python",
   "pygments_lexer": "ipython3",
   "version": "3.10.9"
  }
 },
 "nbformat": 4,
 "nbformat_minor": 5
}
